{
  "nbformat": 4,
  "nbformat_minor": 0,
  "metadata": {
    "colab": {
      "provenance": []
    },
    "kernelspec": {
      "name": "python3",
      "display_name": "Python 3"
    },
    "language_info": {
      "name": "python"
    }
  },
  "cells": [
    {
      "cell_type": "code",
      "source": [
        "### =================================================== ###\n",
        "###           FINAL SCRIPT V3 (SIMPLIFIED)              ###\n",
        "### =================================================== ###\n",
        "\n",
        "# 1. IMPORT LIBRARIES\n",
        "import pandas as pd\n",
        "from sklearn.model_selection import train_test_split\n",
        "from sklearn.ensemble import RandomForestRegressor\n",
        "from sklearn.metrics import r2_score\n",
        "import pickle\n",
        "\n",
        "# 2. LOAD DATA\n",
        "df = pd.read_csv('/content/House_Rent_Dataset.csv')\n",
        "print(\"Step 1: Data loaded successfully.\")\n",
        "\n",
        "# 3. DATA CLEANING AND PREPROCESSING (New, Simpler Method)\n",
        "# First, ensure the entire column is treated as text for cleaning\n",
        "df['Floor'] = df['Floor'].astype(str).str.strip().str.lower()\n",
        "\n",
        "# Replace all special text cases\n",
        "df['Floor'] = df['Floor'].str.replace('ground', '0', regex=False)\n",
        "df['Floor'] = df['Floor'].str.replace('upper basement', '-1', regex=False)\n",
        "df['Floor'] = df['Floor'].str.replace('lower basement', '-2', regex=False)\n",
        "\n",
        "# Handle the \"X out of Y\" format by splitting and taking the first part\n",
        "df['Floor'] = df['Floor'].str.split(' out of ').str[0]\n",
        "\n",
        "# Convert the fully cleaned column to a proper number\n",
        "df['Floor'] = pd.to_numeric(df['Floor'])\n",
        "\n",
        "# --- Step B: Convert all other text columns to numbers ---\n",
        "df = pd.get_dummies(df, columns=['City', 'Furnishing Status', 'Area Type', 'Tenant Preferred', 'Point of Contact'], drop_first=True)\n",
        "print(\"Step 2: Data cleaning complete.\")\n",
        "\n",
        "# 4. DEFINE FEATURES AND TARGET\n",
        "X = df.drop(columns=['Rent', 'Posted On', 'Area Locality'])\n",
        "y = df['Rent']\n",
        "\n",
        "# 5. SPLIT DATA\n",
        "X_train, X_test, y_train, y_test = train_test_split(X, y, test_size=0.2, random_state=42)\n",
        "\n",
        "# 6. TRAIN THE MODEL\n",
        "print(\"Step 3: Training the model...\")\n",
        "model = RandomForestRegressor(n_estimators=100, random_state=42, n_jobs=-1)\n",
        "model.fit(X_train, y_train)\n",
        "print(\"Model training complete!\")\n",
        "\n",
        "# 7. EVALUATE THE MODEL\n",
        "y_pred = model.predict(X_test)\n",
        "score = r2_score(y_test, y_pred)\n",
        "print(f\"\\nModel Performance (R-squared score): {score:.2f}\")\n",
        "\n",
        "# 8. SAVE THE MODEL\n",
        "with open('rent_predictor.pkl', 'wb') as file:\n",
        "    pickle.dump(model, file)\n",
        "print(\"\\nStep 4: Model saved successfully as rent_predictor.pkl!\")\n",
        "# --- ADD THIS TO THE END OF YOUR COLAB SCRIPT ---\n",
        "\n",
        "# After saving the model, also save the column order\n",
        "model_columns = X.columns\n",
        "with open('model_columns.pkl', 'wb') as file:\n",
        "    pickle.dump(model_columns, file)\n",
        "\n",
        "print(\"\\nColumn order saved successfully as model_columns.pkl!\")"
      ],
      "metadata": {
        "colab": {
          "base_uri": "https://localhost:8080/"
        },
        "id": "Bds8dufEr7xz",
        "outputId": "e4340e4d-6c2b-426b-9f6c-ab729e0fb47a"
      },
      "execution_count": 3,
      "outputs": [
        {
          "output_type": "stream",
          "name": "stdout",
          "text": [
            "Step 1: Data loaded successfully.\n",
            "Step 2: Data cleaning complete.\n",
            "Step 3: Training the model...\n",
            "Model training complete!\n",
            "\n",
            "Model Performance (R-squared score): 0.66\n",
            "\n",
            "Step 4: Model saved successfully as rent_predictor.pkl!\n",
            "\n",
            "Column order saved successfully as model_columns.pkl!\n"
          ]
        }
      ]
    },
    {
      "cell_type": "code",
      "source": [],
      "metadata": {
        "id": "oXw2xqCg1445"
      },
      "execution_count": null,
      "outputs": []
    }
  ]
}